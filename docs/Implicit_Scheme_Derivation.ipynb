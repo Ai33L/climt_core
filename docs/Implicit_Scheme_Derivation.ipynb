{
 "cells": [
  {
   "cell_type": "markdown",
   "metadata": {},
   "source": [
    "# Deriving coefficients for the implicit scheme\n",
    "---------------------------------------------------\n",
    "\n",
    "The ice sheet energy balance model uses an implicit scheme to solve the\n",
    "heat equation for $N$ layers. It uses the Crank-Nicholson scheme to discretise\n",
    "the equations. For an equation in one space dimension $x$\n",
    "\n",
    "$\\frac{df}{dt} = F$,\n",
    "\n",
    "the Crank-Nicholson scheme discretises the equation as\n",
    "\n",
    "$\\frac{f^{i+1}_x - f^{i}_x}{\\Delta t} = 0.5\\left [ F^{i+1}_x + F^{i}_x \\right ]$\n",
    "\n",
    "where the superscript is time and the subscript is space."
   ]
  },
  {
   "cell_type": "code",
   "execution_count": 4,
   "metadata": {
    "collapsed": true
   },
   "outputs": [],
   "source": [
    "from sympy import *\n",
    "init_printing()"
   ]
  },
  {
   "cell_type": "code",
   "execution_count": 141,
   "metadata": {
    "collapsed": true
   },
   "outputs": [],
   "source": [
    "tnew_x = Symbol('T^{i+1}_x')\n",
    "tnew_xprev = Symbol('T^{i+1}_{x-1}')\n",
    "tnew_xafter = Symbol('T^{i+1}_{x+1}')\n",
    "\n",
    "told_x = Symbol('T^{i}_x')\n",
    "told_xprev = Symbol('T^{i}_{x-1}')\n",
    "told_xafter = Symbol('T^{i}_{x+1}')\n",
    "\n",
    "u_x = Symbol('\\kappa_x')\n",
    "u_xprev = Symbol('\\kappa_{x-1}')\n",
    "u_xafter = Symbol('\\kappa_{x+1}')\n",
    "\n",
    "delta_t = Symbol('\\Delta t')\n",
    "delta_x = Symbol('\\Delta x')"
   ]
  },
  {
   "cell_type": "code",
   "execution_count": 142,
   "metadata": {},
   "outputs": [
    {
     "data": {
      "image/png": "[encoded data removed]",
      "text/latex": [
       "$$\\left ( T^{i}_x, \\quad \\kappa_{x-1}, \\quad T^{i+1}_{x+1}, \\quad \\Delta x\\right )$$"
      ],
      "text/plain": [
       "(T_x__{i}, \\kappa_{x-1}, T_{x+1}__{i+1}, \\Delta x)"
      ]
     },
     "execution_count": 142,
     "metadata": {},
     "output_type": "execute_result"
    }
   ],
   "source": [
    "told_x, u_xprev, tnew_xafter, delta_x"
   ]
  },
  {
   "cell_type": "code",
   "execution_count": 143,
   "metadata": {
    "collapsed": true
   },
   "outputs": [],
   "source": [
    "lhs = (tnew_x - told_x)/delta_t"
   ]
  },
  {
   "cell_type": "code",
   "execution_count": 144,
   "metadata": {},
   "outputs": [
    {
     "data": {
      "image/png": "[encoded data removed]",
      "text/latex": [
       "$$\\frac{T^{i+1}_x - T^{i}_x}{\\Delta t}$$"
      ],
      "text/plain": [
       "T_x__{i+1} - T_x__{i}\n",
       "─────────────────────\n",
       "       \\Delta t      "
      ]
     },
     "execution_count": 144,
     "metadata": {},
     "output_type": "execute_result"
    }
   ],
   "source": [
    "lhs # The time derivative"
   ]
  },
  {
   "cell_type": "code",
   "execution_count": 158,
   "metadata": {},
   "outputs": [],
   "source": [
    "rhs_new = 0.5*(u_x*(tnew_xprev - 2*tnew_x + tnew_xafter)/delta_x**2 + \n",
    "               ((tnew_x - tnew_xprev)/(delta_x))*((u_x - u_xprev)/(delta_x)))"
   ]
  },
  {
   "cell_type": "code",
   "execution_count": 159,
   "metadata": {},
   "outputs": [],
   "source": [
    "rhs_old = 0.5*(u_x*(told_xprev - 2*told_x + told_xafter)/delta_x**2 + \n",
    "               ((told_x - told_xprev)/(delta_x))*((u_x - u_xprev)/(delta_x)))"
   ]
  },
  {
   "cell_type": "code",
   "execution_count": 160,
   "metadata": {},
   "outputs": [
    {
     "data": {
      "image/png": "[encoded data removed]",
      "text/latex": [
       "$$\\left ( \\frac{0.5 \\kappa_x}{\\Delta x^{2}} \\left(- 2 T^{i+1}_x + T^{i+1}_{x+1} + T^{i+1}_{x-1}\\right) + \\frac{0.5}{\\Delta x^{2}} \\left(T^{i+1}_x - T^{i+1}_{x-1}\\right) \\left(\\kappa_x - \\kappa_{x-1}\\right), \\quad \\frac{0.5 \\kappa_x}{\\Delta x^{2}} \\left(- 2 T^{i}_x + T^{i}_{x+1} + T^{i}_{x-1}\\right) + \\frac{0.5}{\\Delta x^{2}} \\left(T^{i}_x - T^{i}_{x-1}\\right) \\left(\\kappa_x - \\kappa_{x-1}\\right)\\right )$$"
      ],
      "text/plain": [
       "⎛0.5⋅\\kappaₓ⋅(-2⋅T_x__{i+1} + T_{x+1}__{i+1} + T_{x-1}__{i+1})   0.5⋅(T_x__{i+\n",
       "⎜───────────────────────────────────────────────────────────── + ─────────────\n",
       "⎜                                  2                                          \n",
       "⎝                          \\Delta x                                           \n",
       "\n",
       "1} - T_{x-1}__{i+1})⋅(\\kappaₓ - \\kappa_{x-1})  0.5⋅\\kappaₓ⋅(-2⋅T_x__{i} + T_{x\n",
       "─────────────────────────────────────────────, ───────────────────────────────\n",
       "                   2                                                          \n",
       "           \\Delta x                                                   \\Delta x\n",
       "\n",
       "+1}__{i} + T_{x-1}__{i})   0.5⋅(T_x__{i} - T_{x-1}__{i})⋅(\\kappaₓ - \\kappa_{x-\n",
       "──────────────────────── + ───────────────────────────────────────────────────\n",
       "2                                                        2                    \n",
       "                                                 \\Delta x                     \n",
       "\n",
       "1})⎞\n",
       "───⎟\n",
       "   ⎟\n",
       "   ⎠"
      ]
     },
     "execution_count": 160,
     "metadata": {},
     "output_type": "execute_result"
    }
   ],
   "source": [
    "rhs_new, rhs_old # The two parts of the crank-nicholson RHS."
   ]
  },
  {
   "cell_type": "code",
   "execution_count": 161,
   "metadata": {
    "collapsed": true
   },
   "outputs": [],
   "source": [
    "expr = lhs - rhs_new - rhs_old"
   ]
  },
  {
   "cell_type": "code",
   "execution_count": 162,
   "metadata": {},
   "outputs": [
    {
     "data": {
      "image/png": "[encoded data removed]",
      "text/latex": [
       "$$- \\frac{0.5 \\kappa_x}{\\Delta x^{2}} \\left(- 2 T^{i+1}_x + T^{i+1}_{x+1} + T^{i+1}_{x-1}\\right) - \\frac{0.5 \\kappa_x}{\\Delta x^{2}} \\left(- 2 T^{i}_x + T^{i}_{x+1} + T^{i}_{x-1}\\right) - \\frac{0.5}{\\Delta x^{2}} \\left(T^{i+1}_x - T^{i+1}_{x-1}\\right) \\left(\\kappa_x - \\kappa_{x-1}\\right) - \\frac{0.5}{\\Delta x^{2}} \\left(T^{i}_x - T^{i}_{x-1}\\right) \\left(\\kappa_x - \\kappa_{x-1}\\right) + \\frac{T^{i+1}_x - T^{i}_x}{\\Delta t}$$"
      ],
      "text/plain": [
       "  0.5⋅\\kappaₓ⋅(-2⋅T_x__{i+1} + T_{x+1}__{i+1} + T_{x-1}__{i+1})   0.5⋅\\kappaₓ⋅\n",
       "- ───────────────────────────────────────────────────────────── - ────────────\n",
       "                                    2                                         \n",
       "                            \\Delta x                                          \n",
       "\n",
       "(-2⋅T_x__{i} + T_{x+1}__{i} + T_{x-1}__{i})   0.5⋅(T_x__{i+1} - T_{x-1}__{i+1}\n",
       "─────────────────────────────────────────── - ────────────────────────────────\n",
       "                   2                                                          \n",
       "           \\Delta x                                                   \\Delta x\n",
       "\n",
       ")⋅(\\kappaₓ - \\kappa_{x-1})   0.5⋅(T_x__{i} - T_{x-1}__{i})⋅(\\kappaₓ - \\kappa_{\n",
       "────────────────────────── - ─────────────────────────────────────────────────\n",
       "2                                                          2                  \n",
       "                                                   \\Delta x                   \n",
       "\n",
       "x-1})   T_x__{i+1} - T_x__{i}\n",
       "───── + ─────────────────────\n",
       "               \\Delta t      \n",
       "                             "
      ]
     },
     "execution_count": 162,
     "metadata": {},
     "output_type": "execute_result"
    }
   ],
   "source": [
    "expr"
   ]
  },
  {
   "cell_type": "code",
   "execution_count": 163,
   "metadata": {},
   "outputs": [],
   "source": [
    "poly_form = Poly(expr, tnew_x, tnew_xafter, tnew_xprev, told_x, told_xafter, told_xprev)"
   ]
  },
  {
   "cell_type": "code",
   "execution_count": 167,
   "metadata": {},
   "outputs": [
    {
     "data": {
      "image/png": "[encoded data removed]",
      "text/latex": [
       "$$\\operatorname{Poly}{\\left( \\frac{1.0 T^{i+1}_x}{\\Delta t \\Delta x^{2}} \\left(0.5 \\Delta t \\kappa_x + 0.5 \\Delta t \\kappa_{x-1} + 1.0 \\Delta x^{2}\\right) - \\frac{0.5 T^{i+1}_{x+1} \\kappa_x}{\\Delta x^{2}} - \\frac{0.5 T^{i+1}_{x-1} \\kappa_{x-1}}{\\Delta x^{2}} + \\frac{1.0 T^{i}_x}{\\Delta t \\Delta x^{2}} \\left(0.5 \\Delta t \\kappa_x + 0.5 \\Delta t \\kappa_{x-1} - 1.0 \\Delta x^{2}\\right) - \\frac{0.5 T^{i}_{x+1} \\kappa_x}{\\Delta x^{2}} - \\frac{0.5 T^{i}_{x-1} \\kappa_{x-1}}{\\Delta x^{2}}, T^{i+1}_x, T^{i+1}_{x+1}, T^{i+1}_{x-1}, T^{i}_x, T^{i}_{x+1}, T^{i}_{x-1}, domain=\\mathbb{R}\\left(\\Delta t, \\Delta x, \\kappa_x, \\kappa_{x-1}\\right) \\right)}$$"
      ],
      "text/plain": [
       "Poly(1.0*(0.5*\\Delta t*\\kappa_x + 0.5*\\Delta t*\\kappa_{x-1} + 1.0*\\Delta x**2)\n",
       "/(\\Delta t*\\Delta x**2)*T^{i+1}_x - 0.5*\\kappa_x/\\Delta x**2*T^{i+1}_{x+1} - 0\n",
       ".5*\\kappa_{x-1}/\\Delta x**2*T^{i+1}_{x-1} + 1.0*(0.5*\\Delta t*\\kappa_x + 0.5*\\\n",
       "Delta t*\\kappa_{x-1} - 1.0*\\Delta x**2)/(\\Delta t*\\Delta x**2)*T^{i}_x - 0.5*\\\n",
       "kappa_x/\\Delta x**2*T^{i}_{x+1} - 0.5*\\kappa_{x-1}/\\Delta x**2*T^{i}_{x-1}, T^\n",
       "{i+1}_x, T^{i+1}_{x+1}, T^{i+1}_{x-1}, T^{i}_x, T^{i}_{x+1}, T^{i}_{x-1}, doma\n",
       "in='RR(\\Delta t,\\Delta x,\\kappa_x,\\kappa_{x-1})')"
      ]
     },
     "execution_count": 167,
     "metadata": {},
     "output_type": "execute_result"
    }
   ],
   "source": [
    "poly_form"
   ]
  },
  {
   "cell_type": "markdown",
   "metadata": {},
   "source": [
    "The coefficients for the $i+1$ temperature (predicted) are"
   ]
  },
  {
   "cell_type": "code",
   "execution_count": 165,
   "metadata": {},
   "outputs": [
    {
     "data": {
      "image/png": "[encoded data removed]",
      "text/latex": [
       "$$\\left ( - \\frac{0.5 \\Delta t \\kappa_{x-1}}{\\Delta x^{2}}, \\quad \\frac{1}{\\Delta x^{2}} \\left(0.5 \\Delta t \\kappa_x + 0.5 \\Delta t \\kappa_{x-1} + 1.0 \\Delta x^{2}\\right), \\quad - \\frac{0.5 \\Delta t \\kappa_x}{\\Delta x^{2}}\\right )$$"
      ],
      "text/plain": [
       "⎛                                                                             \n",
       "⎜-0.5⋅\\Delta t⋅\\kappa_{x-1}   0.5⋅\\Delta t⋅\\kappaₓ + 0.5⋅\\Delta t⋅\\kappa_{x-1}\n",
       "⎜───────────────────────────, ────────────────────────────────────────────────\n",
       "⎜                 2                                              2            \n",
       "⎝         \\Delta x                                       \\Delta x             \n",
       "\n",
       "               2                        ⎞\n",
       " + 1.0⋅\\Delta x   -0.5⋅\\Delta t⋅\\kappaₓ ⎟\n",
       "────────────────, ──────────────────────⎟\n",
       "                                2       ⎟\n",
       "                        \\Delta x        ⎠"
      ]
     },
     "execution_count": 165,
     "metadata": {},
     "output_type": "execute_result"
    }
   ],
   "source": [
    "(poly_form.coeff_monomial(tnew_xprev)*delta_t).simplify(), (poly_form.coeff_monomial(tnew_x)*delta_t).simplify(), (poly_form.coeff_monomial(tnew_xafter)*delta_t).simplify()"
   ]
  },
  {
   "cell_type": "markdown",
   "metadata": {},
   "source": [
    "The coefficients for the $i$ temperature (current) are"
   ]
  },
  {
   "cell_type": "code",
   "execution_count": 166,
   "metadata": {},
   "outputs": [
    {
     "data": {
      "image/png": "[encoded data removed]",
      "text/latex": [
       "$$\\left ( \\frac{0.5 \\Delta t \\kappa_{x-1}}{\\Delta x^{2}}, \\quad \\frac{1}{\\Delta x^{2}} \\left(- 0.5 \\Delta t \\kappa_x - 0.5 \\Delta t \\kappa_{x-1} + 1.0 \\Delta x^{2}\\right), \\quad \\frac{0.5 \\Delta t \\kappa_x}{\\Delta x^{2}}\\right )$$"
      ],
      "text/plain": [
       "⎛                                                                             \n",
       "⎜0.5⋅\\Delta t⋅\\kappa_{x-1}  -0.5⋅\\Delta t⋅\\kappaₓ - 0.5⋅\\Delta t⋅\\kappa_{x-1} \n",
       "⎜─────────────────────────, ──────────────────────────────────────────────────\n",
       "⎜                2                                              2             \n",
       "⎝        \\Delta x                                       \\Delta x              \n",
       "\n",
       "              2                      ⎞\n",
       "+ 1.0⋅\\Delta x   0.5⋅\\Delta t⋅\\kappaₓ⎟\n",
       "───────────────, ────────────────────⎟\n",
       "                              2      ⎟\n",
       "                      \\Delta x       ⎠"
      ]
     },
     "execution_count": 166,
     "metadata": {},
     "output_type": "execute_result"
    }
   ],
   "source": [
    "-(poly_form.coeff_monomial(told_xprev)*delta_t).simplify(), (poly_form.coeff_monomial(told_x)*-delta_t).simplify(), -(poly_form.coeff_monomial(told_xafter)*delta_t).simplify()"
   ]
  },
  {
   "cell_type": "markdown",
   "metadata": {},
   "source": [
    "These are the coefficients for the diagonals of the sparse matrix. The need to be multiplied by $\\frac{1}{\\rho C}$ where $\\rho, C$ are the vertically varying density and specific heat to represent snow and ice. \n",
    "\n",
    "The $\\kappa$ values are staggered from the $T$ values, since $T$ represents the interface temperatures and $\\kappa$ represents the mid_level values. `K_mid` and `K_bar` in the code therefore interpolate $\\kappa$ values to the interface."
   ]
  }
 ],
 "metadata": {
  "kernelspec": {
   "display_name": "Python 3",
   "language": "python",
   "name": "python3"
  },
  "language_info": {
   "codemirror_mode": {
    "name": "ipython",
    "version": 3
   },
   "file_extension": ".py",
   "mimetype": "text/x-python",
   "name": "python",
   "nbconvert_exporter": "python",
   "pygments_lexer": "ipython3",
   "version": "3.6.5"
  }
 },
 "nbformat": 4,
 "nbformat_minor": 1
}
